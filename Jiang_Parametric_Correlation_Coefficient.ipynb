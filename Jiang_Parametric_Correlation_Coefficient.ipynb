{
  "nbformat": 4,
  "nbformat_minor": 0,
  "metadata": {
    "colab": {
      "provenance": [],
      "authorship_tag": "ABX9TyPpzaenmUXq/s7dRyM7RXa3",
      "include_colab_link": true
    },
    "kernelspec": {
      "name": "python3",
      "display_name": "Python 3"
    },
    "language_info": {
      "name": "python"
    }
  },
  "cells": [
    {
      "cell_type": "markdown",
      "metadata": {
        "id": "view-in-github",
        "colab_type": "text"
      },
      "source": [
        "<a href=\"https://colab.research.google.com/github/evanrjiang/NGG6050/blob/main/Jiang_Parametric_Correlation_Coefficient.ipynb\" target=\"_parent\"><img src=\"https://colab.research.google.com/assets/colab-badge.svg\" alt=\"Open In Colab\"/></a>"
      ]
    },
    {
      "cell_type": "code",
      "execution_count": 22,
      "metadata": {
        "id": "3yyJIx3cx8Ml"
      },
      "outputs": [],
      "source": [
        "import numpy as np\n",
        "import scipy.stats as st\n",
        "import matplotlib.pyplot as plt\n",
        "import statsmodels.api as sm"
      ]
    },
    {
      "cell_type": "code",
      "source": [
        "#1. Plot wing length vs. tail length\n",
        "\n",
        "wingLength = np.array([10.4, 10.8, 11.1, 10.2, 10.3, 10.2 ,10.7, 10.5, 10.8, 11.2, 10.6, 11.4])\n",
        "tailLength = np.array([7.4, 7.6, 7.9, 7.2, 7.4, 7.1, 7.4, 7.2, 7.8, 7.7, 7.8, 8.3])\n",
        "\n",
        "plt.scatter(wingLength, tailLength)\n",
        "plt.xlabel('Wing Length (cm)')\n",
        "plt.ylabel('Tail Length (cm)')"
      ],
      "metadata": {
        "colab": {
          "base_uri": "https://localhost:8080/",
          "height": 467
        },
        "id": "kvW-fnY-zZr7",
        "outputId": "2a4cb2e5-91cc-4ae7-b04f-aedfee80b46e"
      },
      "execution_count": 7,
      "outputs": [
        {
          "output_type": "execute_result",
          "data": {
            "text/plain": [
              "Text(0, 0.5, 'Tail Length (cm)')"
            ]
          },
          "metadata": {},
          "execution_count": 7
        },
        {
          "output_type": "display_data",
          "data": {
            "text/plain": [
              "<Figure size 640x480 with 1 Axes>"
            ],
            "image/png": "[encoded data removed]"
          },
          "metadata": {}
        }
      ]
    },
    {
      "cell_type": "code",
      "source": [
        "#2. Calculate Correlation Coefficient Manually and Using np.corrcoef\n",
        "meanWing = np.mean(wingLength)\n",
        "meanTail = np.mean(tailLength)\n",
        "\n",
        "rxy = np.sum((wingLength-meanWing)*(tailLength-meanTail))/np.sqrt(np.sum(np.square(wingLength-meanWing)))/np.sqrt(np.sum(np.square(tailLength-meanTail)))\n",
        "corr_matrix = np.corrcoef(wingLength,tailLength)\n",
        "ryx = rxy\n",
        "print(f'rxy = {rxy:.4f} (computed) {corr_matrix[0,1]:.4f} (from corrcoef)')\n",
        "print(f'ryx = {ryx:.4f} (computed) {corr_matrix[0,1]:.4f} (from corrcoef)')"
      ],
      "metadata": {
        "colab": {
          "base_uri": "https://localhost:8080/"
        },
        "id": "B7UWHM_U0h7l",
        "outputId": "32651f23-d2c4-44d1-cad1-5dab110207f7"
      },
      "execution_count": 19,
      "outputs": [
        {
          "output_type": "stream",
          "name": "stdout",
          "text": [
            "rxy = 0.8704 (computed) 0.8704 (from corrcoef)\n",
            "ryx = 0.8704 (computed) 0.8704 (from corrcoef)\n"
          ]
        }
      ]
    },
    {
      "cell_type": "code",
      "source": [
        "# 3. Calculate Standard Error\n",
        "r = corr_matrix[0,1]\n",
        "n = len(wingLength)\n",
        "se = np.sqrt((1-r**2)/(n-2))\n",
        "print(f'Standard error of rxy = {se}')\n",
        "\n",
        "# Calculate 95% Confidence Interval\n",
        "#Fischer transformation\n",
        "z = 0.5*np.log((1+r)/(1-r))\n",
        "#Standard error of fischer transformation\n",
        "s_z = 1/np.sqrt(n-3)\n",
        "#Critical z score\n",
        "confidenceLevel = 0.95\n",
        "alpha = 1-confidenceLevel\n",
        "z_crit = st.norm.ppf((1-alpha/2))\n",
        "\n",
        "zUpper = z+z_crit*s_z\n",
        "zLower = z-z_crit*s_z\n",
        "\n",
        "rUpper = (np.exp(2*zUpper)-1)/(np.exp(2*zUpper)+1)\n",
        "rLower = (np.exp(2*zLower)-1)/(np.exp(2*zLower)+1)\n",
        "\n",
        "print(f'The 95% confidence interval is {rLower} to {rUpper}')"
      ],
      "metadata": {
        "colab": {
          "base_uri": "https://localhost:8080/"
        },
        "id": "_Z32I3z87GlT",
        "outputId": "de864202-d6fd-4cd0-9b97-ecb31e59ab1d"
      },
      "execution_count": 14,
      "outputs": [
        {
          "output_type": "stream",
          "name": "stdout",
          "text": [
            "Standard error of rxy = 0.15571863652567375\n",
            "The 95% confidence interval is 0.5923110780844787 to 0.9631598602746105\n"
          ]
        }
      ]
    },
    {
      "cell_type": "code",
      "source": [
        "# 4.\n",
        "tstat = r/se\n",
        "df = n-2\n",
        "p_value_two_tailed = 2 * (1 - st.t.cdf(abs(tstat), df))\n",
        "print(f'p = {p_value_two_tailed}')"
      ],
      "metadata": {
        "colab": {
          "base_uri": "https://localhost:8080/"
        },
        "id": "0FQle7ui_pKr",
        "outputId": "ad9c874e-0f02-4f8a-952a-9998d9be97d5"
      },
      "execution_count": 15,
      "outputs": [
        {
          "output_type": "stream",
          "name": "stdout",
          "text": [
            "p = 0.00023110594312059085\n"
          ]
        }
      ]
    },
    {
      "cell_type": "code",
      "source": [
        "# 5.\n",
        "rs = 0.75\n",
        "z_rs = 0.5*np.log((1+rs)/(1-rs))\n",
        "lambda_stat = (z-z_rs)/s_z\n",
        "p_value_two_tailed = 2 * (1 - st.t.cdf(abs(lambda_stat), df))\n",
        "print(f'p = {p_value_two_tailed}')"
      ],
      "metadata": {
        "colab": {
          "base_uri": "https://localhost:8080/"
        },
        "id": "ianS8ouoBObQ",
        "outputId": "f16893b0-90bf-4701-f763-23b7aaee8df5"
      },
      "execution_count": 18,
      "outputs": [
        {
          "output_type": "stream",
          "name": "stdout",
          "text": [
            "p = 0.3034890172946687\n"
          ]
        }
      ]
    },
    {
      "cell_type": "code",
      "source": [
        "# 6.\n",
        "# Parameters\n",
        "r = 0.5  # True correlation\n",
        "alpha = 0.05  # Significance level\n",
        "desired_power = 0.8  # Desired power level\n",
        "\n",
        "# Calculate effect size\n",
        "effect_size = r / np.sqrt(1 - r**2)\n",
        "\n",
        "# Calculate power for different sample sizes\n",
        "sample_sizes = range(10, 200)  # Sample sizes from 10 to 200\n",
        "powers = []\n",
        "\n",
        "for n in sample_sizes:\n",
        "    power = sm.stats.NormalIndPower().solve_power(effect_size=effect_size, nobs1=n, alpha=alpha, alternative='two-sided')\n",
        "    powers.append(power)\n",
        "\n",
        "# Find the minimum sample size needed to achieve the desired power\n",
        "min_sample_size = next(n for n, p in zip(sample_sizes, powers) if p >= desired_power)\n",
        "\n",
        "print(f\"Effect Size (Cohen's r): {effect_size:.4f}\")\n",
        "print(f\"Minimum sample size needed to achieve {desired_power*100:.1f}% power: {min_sample_size}\")"
      ],
      "metadata": {
        "colab": {
          "base_uri": "https://localhost:8080/"
        },
        "id": "-z6yDbTvC1kX",
        "outputId": "8b154d88-f5cc-454e-ac1d-1fc6c33bb460"
      },
      "execution_count": 24,
      "outputs": [
        {
          "output_type": "stream",
          "name": "stdout",
          "text": [
            "Effect Size (Cohen's r): 0.5774\n",
            "Minimum sample size needed to achieve 80.0% power: 48\n"
          ]
        }
      ]
    }
  ]
}